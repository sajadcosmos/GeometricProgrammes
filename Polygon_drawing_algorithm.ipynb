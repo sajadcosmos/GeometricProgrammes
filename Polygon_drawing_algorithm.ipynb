{
  "nbformat": 4,
  "nbformat_minor": 0,
  "metadata": {
    "colab": {
      "name": "Polygon_drawing_algorithm.ipynb",
      "provenance": [],
      "collapsed_sections": []
    },
    "kernelspec": {
      "name": "python3",
      "display_name": "Python 3"
    },
    "language_info": {
      "name": "python"
    }
  },
  "cells": [
    {
      "cell_type": "markdown",
      "metadata": {
        "id": "Dx90arkQ8ZkM"
      },
      "source": [
        "**This programme computes the exact co ordinates of the vertices of a regular  polygon with given number of sides  $n$ and  co ordinates of vertices of given**"
      ]
    },
    {
      "cell_type": "code",
      "metadata": {
        "id": "eMsao9G7pNCD",
        "colab": {
          "base_uri": "https://localhost:8080/",
          "height": 282
        },
        "outputId": "8427c650-4c08-4a5e-a299-7d8ee018b5a1"
      },
      "source": [
        "import sympy\n",
        "from sympy import symbols\n",
        "from sympy import *\n",
        "init_printing(use_unicode=True)\n",
        "x0, y0, x1, y1, x2, y2, t= symbols('x0 y0 x1 y1 x2 y2 t')\n",
        "x0, y0, x1, y1 = 0, 0, 1, 0\n",
        "n = int(input(\"enter the number of sides: \"))\n",
        "t = (n-2)*pi/n\n",
        "cord = [] #stores the co-ordinates of vertices\n",
        "\n",
        "for i in range(n+1):\n",
        "  x2 = cos(t)*(x0 - x1)+sin(t)*(y0 - y1)+x1\n",
        "  y2 = -sin(t)*(x0 - x1)+cos(t)*(y0 - y1)+y1\n",
        "  x2 = simplify(x2)\n",
        "  y2 = simplify(y2)\n",
        "  cord.append(Matrix([[x2],[y2]]))\n",
        "  x0,y0 = x1,y1\n",
        "  x1,y1 = x2,y2\n",
        "  \n",
        "import matplotlib.pyplot as plt\n",
        "xlist=[]\n",
        "ylist=[]\n",
        "for i in range(n+1):\n",
        "  xlist.append(cord[i][0])\n",
        "  ylist.append(cord[i][1])  \n",
        "ax = plt.axes()\n",
        "ax.set_aspect(1)\n",
        "plt.plot(xlist, ylist)\n",
        "plt.show()  \n"
      ],
      "execution_count": null,
      "outputs": [
        {
          "output_type": "stream",
          "text": [
            "enter the number of sides: 6\n"
          ],
          "name": "stdout"
        },
        {
          "output_type": "display_data",
          "data": {
            "image/png": "[encoded data removed]",
            "text/plain": [
              "<Figure size 432x288 with 1 Axes>"
            ]
          },
          "metadata": {
            "tags": [],
            "needs_background": "light"
          }
        }
      ]
    },
    {
      "cell_type": "markdown",
      "metadata": {
        "id": "xOiwBztu9Zy5"
      },
      "source": [
        "Now as an illustration wecan print the coordinates of  the prevoius regular polygon   using the our algorithm "
      ]
    },
    {
      "cell_type": "code",
      "metadata": {
        "colab": {
          "base_uri": "https://localhost:8080/",
          "height": 61
        },
        "id": "0C6UfAj_9Np0",
        "outputId": "cea94903-1b03-4974-954a-ae2f4a2060a0"
      },
      "source": [
        "cord"
      ],
      "execution_count": null,
      "outputs": [
        {
          "output_type": "execute_result",
          "data": {
            "text/latex": "$\\displaystyle \\left[ \\left[\\begin{matrix}\\frac{3}{2}\\\\\\frac{\\sqrt{3}}{2}\\end{matrix}\\right], \\  \\left[\\begin{matrix}1\\\\\\sqrt{3}\\end{matrix}\\right], \\  \\left[\\begin{matrix}0\\\\\\sqrt{3}\\end{matrix}\\right], \\  \\left[\\begin{matrix}- \\frac{1}{2}\\\\\\frac{\\sqrt{3}}{2}\\end{matrix}\\right], \\  \\left[\\begin{matrix}0\\\\0\\end{matrix}\\right], \\  \\left[\\begin{matrix}1\\\\0\\end{matrix}\\right], \\  \\left[\\begin{matrix}\\frac{3}{2}\\\\\\frac{\\sqrt{3}}{2}\\end{matrix}\\right]\\right]$",
            "text/plain": [
              "⎡⎡3/2⎤              ⎡-1/2⎤            ⎡3/2⎤⎤\n",
              "⎢⎢   ⎥  ⎡1 ⎤  ⎡0 ⎤  ⎢    ⎥  ⎡0⎤  ⎡1⎤  ⎢   ⎥⎥\n",
              "⎢⎢√3 ⎥, ⎢  ⎥, ⎢  ⎥, ⎢ √3 ⎥, ⎢ ⎥, ⎢ ⎥, ⎢√3 ⎥⎥\n",
              "⎢⎢── ⎥  ⎣√3⎦  ⎣√3⎦  ⎢ ── ⎥  ⎣0⎦  ⎣0⎦  ⎢── ⎥⎥\n",
              "⎣⎣2  ⎦              ⎣ 2  ⎦            ⎣2  ⎦⎦"
            ]
          },
          "metadata": {
            "tags": []
          },
          "execution_count": 2
        }
      ]
    },
    {
      "cell_type": "code",
      "metadata": {
        "id": "0CIXn2C69UPJ"
      },
      "source": [
        ""
      ],
      "execution_count": null,
      "outputs": []
    }
  ]
}